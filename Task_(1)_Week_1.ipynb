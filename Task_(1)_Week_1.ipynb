{
  "nbformat": 4,
  "nbformat_minor": 0,
  "metadata": {
    "colab": {
      "provenance": [],
      "include_colab_link": true
    },
    "kernelspec": {
      "name": "python3",
      "display_name": "Python 3"
    },
    "language_info": {
      "name": "python"
    }
  },
  "cells": [
    {
      "cell_type": "markdown",
      "metadata": {
        "id": "view-in-github",
        "colab_type": "text"
      },
      "source": [
        "<a href=\"https://colab.research.google.com/github/rahafbader/T5/blob/main/Task_(1)_Week_1.ipynb\" target=\"_parent\"><img src=\"https://colab.research.google.com/assets/colab-badge.svg\" alt=\"Open In Colab\"/></a>"
      ]
    },
    {
      "cell_type": "markdown",
      "source": [
        "#Dataset Description"
      ],
      "metadata": {
        "id": "8vb3xNKsoP0r"
      }
    },
    {
      "cell_type": "markdown",
      "source": [
        "\\\n",
        "\n",
        "## The dataset contains information about road traffic accidents with the following columns:\n",
        "\n",
        "`Time`: Time of the accident\n",
        "\n",
        "`Day_of_week`: Day of the week when the accident occurred\n",
        "\n",
        "`Age_band_of_driver`: Age group of the driver\n",
        "\n",
        "`Sex_of_driver`: Gender of the driver\n",
        "\n",
        "`Educational_level`: Educational level of the driver\n",
        "\n",
        "`Vehicle_driver_relation`: Relationship of the driver to the vehicle\n",
        "\n",
        "`Driving_experience`: Driving experience of the driver\n",
        "\n",
        "`Type_of_vehicle`: Type of vehicle involved in the accident\n",
        "\n",
        "`Owner_of_vehicle`: Owner of the vehicle\n",
        "\n",
        "`Service_year_of_vehicle`: Service years of the vehicle\n",
        "\n",
        "`Area_accident_occured`: Area where the accident occurred\n",
        "\n",
        "`Lanes_or_Medians`: Lanes or medians at the accident site\n",
        "\n",
        "`Road_allignment`: Road alignment at the accident site\n",
        "\n",
        "`Types_of_Junction`: Type of junction at the accident site\n",
        "\n",
        "`Road_surface_type`: Type of road surface at the accident site\n",
        "\n",
        "`Road_surface_conditions`: Road surface conditions at the accident site\n",
        "\n",
        "`Light_conditions`: Light conditions at the time of the accident\n",
        "\n",
        "`Weather_conditions`: Weather conditions at the time of the accident\n",
        "\n",
        "`Type_of_collision`: Type of collision\n",
        "\n",
        "`Number_of_vehicles_involved`: Number of vehicles involved in the accident\n",
        "\n",
        "`Number_of_casualties`: Number of casualties in the accident\n",
        "\n",
        "`Vehicle_movement`: Movement of the vehicle during the accident\n",
        "\n",
        "`Casualty_class`: Class of casualty (driver, passenger, pedestrian)\n",
        "\n",
        "`Sex_of_casualty`: Gender of the casualty\n",
        "\n",
        "`Age_band_of_casualty`: Age group of the casualty\n",
        "\n",
        "`Casualty_severity`: Severity of the casualty\n",
        "\n",
        "`Work_of_casuality`: Occupation of the casualty\n",
        "\n",
        "`Fitness_of_casuality`: Fitness of the casualty\n",
        "\n",
        "`Pedestrian_movement`: Movement of the pedestrian\n",
        "\n",
        "`Cause_of_accident`: Cause of the accident\n",
        "\n",
        "`Accident_severity`: Severity of the accident\n"
      ],
      "metadata": {
        "id": "4TflBwn4kNdJ"
      }
    },
    {
      "cell_type": "markdown",
      "source": [
        "# Tasks"
      ],
      "metadata": {
        "id": "WBNuyQVhlpj5"
      }
    },
    {
      "cell_type": "markdown",
      "source": [
        "##1. Data Cleaning"
      ],
      "metadata": {
        "id": "dasaHMt9lvdZ"
      }
    },
    {
      "cell_type": "markdown",
      "source": [
        "### Read the dataset"
      ],
      "metadata": {
        "id": "RNId1lMc3iUT"
      }
    },
    {
      "cell_type": "code",
      "source": [
        "\n",
        "import pandas as pd\n",
        "df=pd.read_csv('/content/Task (1) Dataset.csv')\n",
        "df.info()"
      ],
      "metadata": {
        "id": "KoTLFh533l5X",
        "colab": {
          "base_uri": "https://localhost:8080/"
        },
        "outputId": "060309cc-24a4-4627-cd8d-1a7908eaeda2"
      },
      "execution_count": 20,
      "outputs": [
        {
          "output_type": "stream",
          "name": "stdout",
          "text": [
            "<class 'pandas.core.frame.DataFrame'>\n",
            "RangeIndex: 12316 entries, 0 to 12315\n",
            "Data columns (total 32 columns):\n",
            " #   Column                       Non-Null Count  Dtype \n",
            "---  ------                       --------------  ----- \n",
            " 0   Time                         12316 non-null  object\n",
            " 1   Day_of_week                  12316 non-null  object\n",
            " 2   Age_band_of_driver           12316 non-null  object\n",
            " 3   Sex_of_driver                12316 non-null  object\n",
            " 4   Educational_level            11575 non-null  object\n",
            " 5   Vehicle_driver_relation      11737 non-null  object\n",
            " 6   Driving_experience           11487 non-null  object\n",
            " 7   Type_of_vehicle              11366 non-null  object\n",
            " 8   Owner_of_vehicle             11834 non-null  object\n",
            " 9   Service_year_of_vehicle      8388 non-null   object\n",
            " 10  Defect_of_vehicle            7889 non-null   object\n",
            " 11  Area_accident_occured        12077 non-null  object\n",
            " 12  Lanes_or_Medians             11931 non-null  object\n",
            " 13  Road_allignment              12174 non-null  object\n",
            " 14  Types_of_Junction            11429 non-null  object\n",
            " 15  Road_surface_type            12144 non-null  object\n",
            " 16  Road_surface_conditions      12316 non-null  object\n",
            " 17  Light_conditions             12316 non-null  object\n",
            " 18  Weather_conditions           12316 non-null  object\n",
            " 19  Type_of_collision            12161 non-null  object\n",
            " 20  Number_of_vehicles_involved  12316 non-null  int64 \n",
            " 21  Number_of_casualties         12316 non-null  int64 \n",
            " 22  Vehicle_movement             12008 non-null  object\n",
            " 23  Casualty_class               12316 non-null  object\n",
            " 24  Sex_of_casualty              12316 non-null  object\n",
            " 25  Age_band_of_casualty         12316 non-null  object\n",
            " 26  Casualty_severity            12316 non-null  object\n",
            " 27  Work_of_casuality            9118 non-null   object\n",
            " 28  Fitness_of_casuality         9681 non-null   object\n",
            " 29  Pedestrian_movement          12316 non-null  object\n",
            " 30  Cause_of_accident            12316 non-null  object\n",
            " 31  Accident_severity            12316 non-null  object\n",
            "dtypes: int64(2), object(30)\n",
            "memory usage: 3.0+ MB\n"
          ]
        }
      ]
    },
    {
      "cell_type": "code",
      "source": [
        "df.head()"
      ],
      "metadata": {
        "colab": {
          "base_uri": "https://localhost:8080/",
          "height": 429
        },
        "id": "3LZUHqykFhXM",
        "outputId": "84f18773-4ebc-4f2e-b0a6-3325368c0cbc"
      },
      "execution_count": 24,
      "outputs": [
        {
          "output_type": "execute_result",
          "data": {
            "text/plain": [
              "                  Time Day_of_week Age_band_of_driver Sex_of_driver  \\\n",
              "8  1900-01-01 17:20:00      Friday              18-30          Male   \n",
              "9  1900-01-01 17:20:00      Friday              18-30          Male   \n",
              "12 1900-01-01 17:45:00    Thursday              18-30          Male   \n",
              "13 1900-01-01 17:45:00    Thursday              31-50          Male   \n",
              "14 1900-01-01 17:45:00    Thursday              31-50          Male   \n",
              "\n",
              "     Educational_level Vehicle_driver_relation Driving_experience  \\\n",
              "8   Junior high school                Employee         Above 10yr   \n",
              "9   Junior high school                Employee              1-2yr   \n",
              "12  Junior high school                Employee              1-2yr   \n",
              "13  Junior high school                Employee             5-10yr   \n",
              "14  Junior high school                Employee         Above 10yr   \n",
              "\n",
              "   Type_of_vehicle Owner_of_vehicle Service_year_of_vehicle  ...  \\\n",
              "8            Lorry            Owner                   1-2yr  ...   \n",
              "9       Automobile            Owner                  2-5yrs  ...   \n",
              "12          Public            Owner                  2-5yrs  ...   \n",
              "13           Lorry            Owner              Above 10yr  ...   \n",
              "14      Automobile            Owner                   1-2yr  ...   \n",
              "\n",
              "   Vehicle_movement   Casualty_class Sex_of_casualty Age_band_of_casualty  \\\n",
              "8    Going straight       Pedestrian            Male             Under 18   \n",
              "9            U-Turn        Passenger            Male                18-30   \n",
              "12   Going straight  Driver or rider            Male                   na   \n",
              "13    Waiting to go  Driver or rider            Male                   na   \n",
              "14   Going straight  Driver or rider          Female                18-30   \n",
              "\n",
              "   Casualty_severity Work_of_casuality Fitness_of_casuality  \\\n",
              "8                  3            Driver               Normal   \n",
              "9                  3            Driver               Normal   \n",
              "12                 3            Driver               Normal   \n",
              "13                 3             Other               Normal   \n",
              "14                 3            Driver               Normal   \n",
              "\n",
              "                Pedestrian_movement           Cause_of_accident  \\\n",
              "8   Crossing from driver's nearside  Changing lane to the right   \n",
              "9                  Not a Pedestrian             Moving Backward   \n",
              "12                 Not a Pedestrian               No distancing   \n",
              "13                 Not a Pedestrian      No priority to vehicle   \n",
              "14                 Not a Pedestrian               No distancing   \n",
              "\n",
              "   Accident_severity  \n",
              "8      Slight Injury  \n",
              "9     Serious Injury  \n",
              "12     Slight Injury  \n",
              "13     Slight Injury  \n",
              "14    Serious Injury  \n",
              "\n",
              "[5 rows x 32 columns]"
            ],
            "text/html": [
              "\n",
              "  <div id=\"df-5b37c2de-66ba-48fe-a748-c52a6dd0f1be\" class=\"colab-df-container\">\n",
              "    <div>\n",
              "<style scoped>\n",
              "    .dataframe tbody tr th:only-of-type {\n",
              "        vertical-align: middle;\n",
              "    }\n",
              "\n",
              "    .dataframe tbody tr th {\n",
              "        vertical-align: top;\n",
              "    }\n",
              "\n",
              "    .dataframe thead th {\n",
              "        text-align: right;\n",
              "    }\n",
              "</style>\n",
              "<table border=\"1\" class=\"dataframe\">\n",
              "  <thead>\n",
              "    <tr style=\"text-align: right;\">\n",
              "      <th></th>\n",
              "      <th>Time</th>\n",
              "      <th>Day_of_week</th>\n",
              "      <th>Age_band_of_driver</th>\n",
              "      <th>Sex_of_driver</th>\n",
              "      <th>Educational_level</th>\n",
              "      <th>Vehicle_driver_relation</th>\n",
              "      <th>Driving_experience</th>\n",
              "      <th>Type_of_vehicle</th>\n",
              "      <th>Owner_of_vehicle</th>\n",
              "      <th>Service_year_of_vehicle</th>\n",
              "      <th>...</th>\n",
              "      <th>Vehicle_movement</th>\n",
              "      <th>Casualty_class</th>\n",
              "      <th>Sex_of_casualty</th>\n",
              "      <th>Age_band_of_casualty</th>\n",
              "      <th>Casualty_severity</th>\n",
              "      <th>Work_of_casuality</th>\n",
              "      <th>Fitness_of_casuality</th>\n",
              "      <th>Pedestrian_movement</th>\n",
              "      <th>Cause_of_accident</th>\n",
              "      <th>Accident_severity</th>\n",
              "    </tr>\n",
              "  </thead>\n",
              "  <tbody>\n",
              "    <tr>\n",
              "      <th>8</th>\n",
              "      <td>1900-01-01 17:20:00</td>\n",
              "      <td>Friday</td>\n",
              "      <td>18-30</td>\n",
              "      <td>Male</td>\n",
              "      <td>Junior high school</td>\n",
              "      <td>Employee</td>\n",
              "      <td>Above 10yr</td>\n",
              "      <td>Lorry</td>\n",
              "      <td>Owner</td>\n",
              "      <td>1-2yr</td>\n",
              "      <td>...</td>\n",
              "      <td>Going straight</td>\n",
              "      <td>Pedestrian</td>\n",
              "      <td>Male</td>\n",
              "      <td>Under 18</td>\n",
              "      <td>3</td>\n",
              "      <td>Driver</td>\n",
              "      <td>Normal</td>\n",
              "      <td>Crossing from driver's nearside</td>\n",
              "      <td>Changing lane to the right</td>\n",
              "      <td>Slight Injury</td>\n",
              "    </tr>\n",
              "    <tr>\n",
              "      <th>9</th>\n",
              "      <td>1900-01-01 17:20:00</td>\n",
              "      <td>Friday</td>\n",
              "      <td>18-30</td>\n",
              "      <td>Male</td>\n",
              "      <td>Junior high school</td>\n",
              "      <td>Employee</td>\n",
              "      <td>1-2yr</td>\n",
              "      <td>Automobile</td>\n",
              "      <td>Owner</td>\n",
              "      <td>2-5yrs</td>\n",
              "      <td>...</td>\n",
              "      <td>U-Turn</td>\n",
              "      <td>Passenger</td>\n",
              "      <td>Male</td>\n",
              "      <td>18-30</td>\n",
              "      <td>3</td>\n",
              "      <td>Driver</td>\n",
              "      <td>Normal</td>\n",
              "      <td>Not a Pedestrian</td>\n",
              "      <td>Moving Backward</td>\n",
              "      <td>Serious Injury</td>\n",
              "    </tr>\n",
              "    <tr>\n",
              "      <th>12</th>\n",
              "      <td>1900-01-01 17:45:00</td>\n",
              "      <td>Thursday</td>\n",
              "      <td>18-30</td>\n",
              "      <td>Male</td>\n",
              "      <td>Junior high school</td>\n",
              "      <td>Employee</td>\n",
              "      <td>1-2yr</td>\n",
              "      <td>Public</td>\n",
              "      <td>Owner</td>\n",
              "      <td>2-5yrs</td>\n",
              "      <td>...</td>\n",
              "      <td>Going straight</td>\n",
              "      <td>Driver or rider</td>\n",
              "      <td>Male</td>\n",
              "      <td>na</td>\n",
              "      <td>3</td>\n",
              "      <td>Driver</td>\n",
              "      <td>Normal</td>\n",
              "      <td>Not a Pedestrian</td>\n",
              "      <td>No distancing</td>\n",
              "      <td>Slight Injury</td>\n",
              "    </tr>\n",
              "    <tr>\n",
              "      <th>13</th>\n",
              "      <td>1900-01-01 17:45:00</td>\n",
              "      <td>Thursday</td>\n",
              "      <td>31-50</td>\n",
              "      <td>Male</td>\n",
              "      <td>Junior high school</td>\n",
              "      <td>Employee</td>\n",
              "      <td>5-10yr</td>\n",
              "      <td>Lorry</td>\n",
              "      <td>Owner</td>\n",
              "      <td>Above 10yr</td>\n",
              "      <td>...</td>\n",
              "      <td>Waiting to go</td>\n",
              "      <td>Driver or rider</td>\n",
              "      <td>Male</td>\n",
              "      <td>na</td>\n",
              "      <td>3</td>\n",
              "      <td>Other</td>\n",
              "      <td>Normal</td>\n",
              "      <td>Not a Pedestrian</td>\n",
              "      <td>No priority to vehicle</td>\n",
              "      <td>Slight Injury</td>\n",
              "    </tr>\n",
              "    <tr>\n",
              "      <th>14</th>\n",
              "      <td>1900-01-01 17:45:00</td>\n",
              "      <td>Thursday</td>\n",
              "      <td>31-50</td>\n",
              "      <td>Male</td>\n",
              "      <td>Junior high school</td>\n",
              "      <td>Employee</td>\n",
              "      <td>Above 10yr</td>\n",
              "      <td>Automobile</td>\n",
              "      <td>Owner</td>\n",
              "      <td>1-2yr</td>\n",
              "      <td>...</td>\n",
              "      <td>Going straight</td>\n",
              "      <td>Driver or rider</td>\n",
              "      <td>Female</td>\n",
              "      <td>18-30</td>\n",
              "      <td>3</td>\n",
              "      <td>Driver</td>\n",
              "      <td>Normal</td>\n",
              "      <td>Not a Pedestrian</td>\n",
              "      <td>No distancing</td>\n",
              "      <td>Serious Injury</td>\n",
              "    </tr>\n",
              "  </tbody>\n",
              "</table>\n",
              "<p>5 rows × 32 columns</p>\n",
              "</div>\n",
              "    <div class=\"colab-df-buttons\">\n",
              "\n",
              "  <div class=\"colab-df-container\">\n",
              "    <button class=\"colab-df-convert\" onclick=\"convertToInteractive('df-5b37c2de-66ba-48fe-a748-c52a6dd0f1be')\"\n",
              "            title=\"Convert this dataframe to an interactive table.\"\n",
              "            style=\"display:none;\">\n",
              "\n",
              "  <svg xmlns=\"http://www.w3.org/2000/svg\" height=\"24px\" viewBox=\"0 -960 960 960\">\n",
              "    <path d=\"M120-120v-720h720v720H120Zm60-500h600v-160H180v160Zm220 220h160v-160H400v160Zm0 220h160v-160H400v160ZM180-400h160v-160H180v160Zm440 0h160v-160H620v160ZM180-180h160v-160H180v160Zm440 0h160v-160H620v160Z\"/>\n",
              "  </svg>\n",
              "    </button>\n",
              "\n",
              "  <style>\n",
              "    .colab-df-container {\n",
              "      display:flex;\n",
              "      gap: 12px;\n",
              "    }\n",
              "\n",
              "    .colab-df-convert {\n",
              "      background-color: #E8F0FE;\n",
              "      border: none;\n",
              "      border-radius: 50%;\n",
              "      cursor: pointer;\n",
              "      display: none;\n",
              "      fill: #1967D2;\n",
              "      height: 32px;\n",
              "      padding: 0 0 0 0;\n",
              "      width: 32px;\n",
              "    }\n",
              "\n",
              "    .colab-df-convert:hover {\n",
              "      background-color: #E2EBFA;\n",
              "      box-shadow: 0px 1px 2px rgba(60, 64, 67, 0.3), 0px 1px 3px 1px rgba(60, 64, 67, 0.15);\n",
              "      fill: #174EA6;\n",
              "    }\n",
              "\n",
              "    .colab-df-buttons div {\n",
              "      margin-bottom: 4px;\n",
              "    }\n",
              "\n",
              "    [theme=dark] .colab-df-convert {\n",
              "      background-color: #3B4455;\n",
              "      fill: #D2E3FC;\n",
              "    }\n",
              "\n",
              "    [theme=dark] .colab-df-convert:hover {\n",
              "      background-color: #434B5C;\n",
              "      box-shadow: 0px 1px 3px 1px rgba(0, 0, 0, 0.15);\n",
              "      filter: drop-shadow(0px 1px 2px rgba(0, 0, 0, 0.3));\n",
              "      fill: #FFFFFF;\n",
              "    }\n",
              "  </style>\n",
              "\n",
              "    <script>\n",
              "      const buttonEl =\n",
              "        document.querySelector('#df-5b37c2de-66ba-48fe-a748-c52a6dd0f1be button.colab-df-convert');\n",
              "      buttonEl.style.display =\n",
              "        google.colab.kernel.accessAllowed ? 'block' : 'none';\n",
              "\n",
              "      async function convertToInteractive(key) {\n",
              "        const element = document.querySelector('#df-5b37c2de-66ba-48fe-a748-c52a6dd0f1be');\n",
              "        const dataTable =\n",
              "          await google.colab.kernel.invokeFunction('convertToInteractive',\n",
              "                                                    [key], {});\n",
              "        if (!dataTable) return;\n",
              "\n",
              "        const docLinkHtml = 'Like what you see? Visit the ' +\n",
              "          '<a target=\"_blank\" href=https://colab.research.google.com/notebooks/data_table.ipynb>data table notebook</a>'\n",
              "          + ' to learn more about interactive tables.';\n",
              "        element.innerHTML = '';\n",
              "        dataTable['output_type'] = 'display_data';\n",
              "        await google.colab.output.renderOutput(dataTable, element);\n",
              "        const docLink = document.createElement('div');\n",
              "        docLink.innerHTML = docLinkHtml;\n",
              "        element.appendChild(docLink);\n",
              "      }\n",
              "    </script>\n",
              "  </div>\n",
              "\n",
              "\n",
              "<div id=\"df-e50f4238-80bb-4f79-ba3d-052784fa3d7b\">\n",
              "  <button class=\"colab-df-quickchart\" onclick=\"quickchart('df-e50f4238-80bb-4f79-ba3d-052784fa3d7b')\"\n",
              "            title=\"Suggest charts\"\n",
              "            style=\"display:none;\">\n",
              "\n",
              "<svg xmlns=\"http://www.w3.org/2000/svg\" height=\"24px\"viewBox=\"0 0 24 24\"\n",
              "     width=\"24px\">\n",
              "    <g>\n",
              "        <path d=\"M19 3H5c-1.1 0-2 .9-2 2v14c0 1.1.9 2 2 2h14c1.1 0 2-.9 2-2V5c0-1.1-.9-2-2-2zM9 17H7v-7h2v7zm4 0h-2V7h2v10zm4 0h-2v-4h2v4z\"/>\n",
              "    </g>\n",
              "</svg>\n",
              "  </button>\n",
              "\n",
              "<style>\n",
              "  .colab-df-quickchart {\n",
              "      --bg-color: #E8F0FE;\n",
              "      --fill-color: #1967D2;\n",
              "      --hover-bg-color: #E2EBFA;\n",
              "      --hover-fill-color: #174EA6;\n",
              "      --disabled-fill-color: #AAA;\n",
              "      --disabled-bg-color: #DDD;\n",
              "  }\n",
              "\n",
              "  [theme=dark] .colab-df-quickchart {\n",
              "      --bg-color: #3B4455;\n",
              "      --fill-color: #D2E3FC;\n",
              "      --hover-bg-color: #434B5C;\n",
              "      --hover-fill-color: #FFFFFF;\n",
              "      --disabled-bg-color: #3B4455;\n",
              "      --disabled-fill-color: #666;\n",
              "  }\n",
              "\n",
              "  .colab-df-quickchart {\n",
              "    background-color: var(--bg-color);\n",
              "    border: none;\n",
              "    border-radius: 50%;\n",
              "    cursor: pointer;\n",
              "    display: none;\n",
              "    fill: var(--fill-color);\n",
              "    height: 32px;\n",
              "    padding: 0;\n",
              "    width: 32px;\n",
              "  }\n",
              "\n",
              "  .colab-df-quickchart:hover {\n",
              "    background-color: var(--hover-bg-color);\n",
              "    box-shadow: 0 1px 2px rgba(60, 64, 67, 0.3), 0 1px 3px 1px rgba(60, 64, 67, 0.15);\n",
              "    fill: var(--button-hover-fill-color);\n",
              "  }\n",
              "\n",
              "  .colab-df-quickchart-complete:disabled,\n",
              "  .colab-df-quickchart-complete:disabled:hover {\n",
              "    background-color: var(--disabled-bg-color);\n",
              "    fill: var(--disabled-fill-color);\n",
              "    box-shadow: none;\n",
              "  }\n",
              "\n",
              "  .colab-df-spinner {\n",
              "    border: 2px solid var(--fill-color);\n",
              "    border-color: transparent;\n",
              "    border-bottom-color: var(--fill-color);\n",
              "    animation:\n",
              "      spin 1s steps(1) infinite;\n",
              "  }\n",
              "\n",
              "  @keyframes spin {\n",
              "    0% {\n",
              "      border-color: transparent;\n",
              "      border-bottom-color: var(--fill-color);\n",
              "      border-left-color: var(--fill-color);\n",
              "    }\n",
              "    20% {\n",
              "      border-color: transparent;\n",
              "      border-left-color: var(--fill-color);\n",
              "      border-top-color: var(--fill-color);\n",
              "    }\n",
              "    30% {\n",
              "      border-color: transparent;\n",
              "      border-left-color: var(--fill-color);\n",
              "      border-top-color: var(--fill-color);\n",
              "      border-right-color: var(--fill-color);\n",
              "    }\n",
              "    40% {\n",
              "      border-color: transparent;\n",
              "      border-right-color: var(--fill-color);\n",
              "      border-top-color: var(--fill-color);\n",
              "    }\n",
              "    60% {\n",
              "      border-color: transparent;\n",
              "      border-right-color: var(--fill-color);\n",
              "    }\n",
              "    80% {\n",
              "      border-color: transparent;\n",
              "      border-right-color: var(--fill-color);\n",
              "      border-bottom-color: var(--fill-color);\n",
              "    }\n",
              "    90% {\n",
              "      border-color: transparent;\n",
              "      border-bottom-color: var(--fill-color);\n",
              "    }\n",
              "  }\n",
              "</style>\n",
              "\n",
              "  <script>\n",
              "    async function quickchart(key) {\n",
              "      const quickchartButtonEl =\n",
              "        document.querySelector('#' + key + ' button');\n",
              "      quickchartButtonEl.disabled = true;  // To prevent multiple clicks.\n",
              "      quickchartButtonEl.classList.add('colab-df-spinner');\n",
              "      try {\n",
              "        const charts = await google.colab.kernel.invokeFunction(\n",
              "            'suggestCharts', [key], {});\n",
              "      } catch (error) {\n",
              "        console.error('Error during call to suggestCharts:', error);\n",
              "      }\n",
              "      quickchartButtonEl.classList.remove('colab-df-spinner');\n",
              "      quickchartButtonEl.classList.add('colab-df-quickchart-complete');\n",
              "    }\n",
              "    (() => {\n",
              "      let quickchartButtonEl =\n",
              "        document.querySelector('#df-e50f4238-80bb-4f79-ba3d-052784fa3d7b button');\n",
              "      quickchartButtonEl.style.display =\n",
              "        google.colab.kernel.accessAllowed ? 'block' : 'none';\n",
              "    })();\n",
              "  </script>\n",
              "</div>\n",
              "\n",
              "    </div>\n",
              "  </div>\n"
            ],
            "application/vnd.google.colaboratory.intrinsic+json": {
              "type": "dataframe",
              "variable_name": "df"
            }
          },
          "metadata": {},
          "execution_count": 24
        }
      ]
    },
    {
      "cell_type": "markdown",
      "source": [
        "### Handle Missing Values"
      ],
      "metadata": {
        "id": "WiipgZA4l1Wt"
      }
    },
    {
      "cell_type": "code",
      "source": [
        "\n",
        "df.dropna(subset=['Defect_of_vehicle'],inplace=True)\n",
        "df.dropna(subset=['Service_year_of_vehicle'],inplace=True)\n",
        "df.dropna(subset=['Vehicle_driver_relation'],inplace=True)\n",
        "df.dropna(subset=['Work_of_casuality'],inplace=True)\n",
        "df.dropna(subset=['Fitness_of_casuality'],inplace=True)\n",
        "df.dropna(subset=['Type_of_vehicle'],inplace=True)\n",
        "df['Educational_level'].fillna(df['Educational_level'].mode()[0],inplace=True)\n",
        "df['Type_of_collision'].fillna(df['Type_of_collision'].mode()[0],inplace=True)\n",
        "df['Types_of_Junction'].fillna(df['Types_of_Junction'].mode()[0],inplace=True)\n",
        "df['Owner_of_vehicle'].fillna(df['Owner_of_vehicle'].mode()[0],inplace=True)\n",
        "df['Area_accident_occured'].fillna(df['Area_accident_occured'].mode()[0],inplace=True)\n",
        "df['Road_allignment'].fillna(df['Road_allignment'].mode()[0],inplace=True)\n",
        "df['Vehicle_movement'].fillna(df['Vehicle_movement'].mode()[0],inplace=True)\n",
        "df['Lanes_or_Medians'].fillna(df['Lanes_or_Medians'].mode()[0],inplace=True)\n",
        "df['Road_surface_type'].fillna(df['Road_surface_type'].mode()[0],inplace=True)\n",
        "df['Driving_experience'].fillna(df['Driving_experience'].mode()[0],inplace=True)\n",
        "print(df.isna().sum())"
      ],
      "metadata": {
        "id": "jGQsNlCWpHzw",
        "colab": {
          "base_uri": "https://localhost:8080/"
        },
        "outputId": "e44aad22-6ddb-41f1-e2ca-ef250e738e63"
      },
      "execution_count": 21,
      "outputs": [
        {
          "output_type": "stream",
          "name": "stdout",
          "text": [
            "Time                           0\n",
            "Day_of_week                    0\n",
            "Age_band_of_driver             0\n",
            "Sex_of_driver                  0\n",
            "Educational_level              0\n",
            "Vehicle_driver_relation        0\n",
            "Driving_experience             0\n",
            "Type_of_vehicle                0\n",
            "Owner_of_vehicle               0\n",
            "Service_year_of_vehicle        0\n",
            "Defect_of_vehicle              0\n",
            "Area_accident_occured          0\n",
            "Lanes_or_Medians               0\n",
            "Road_allignment                0\n",
            "Types_of_Junction              0\n",
            "Road_surface_type              0\n",
            "Road_surface_conditions        0\n",
            "Light_conditions               0\n",
            "Weather_conditions             0\n",
            "Type_of_collision              0\n",
            "Number_of_vehicles_involved    0\n",
            "Number_of_casualties           0\n",
            "Vehicle_movement               0\n",
            "Casualty_class                 0\n",
            "Sex_of_casualty                0\n",
            "Age_band_of_casualty           0\n",
            "Casualty_severity              0\n",
            "Work_of_casuality              0\n",
            "Fitness_of_casuality           0\n",
            "Pedestrian_movement            0\n",
            "Cause_of_accident              0\n",
            "Accident_severity              0\n",
            "dtype: int64\n"
          ]
        }
      ]
    },
    {
      "cell_type": "markdown",
      "source": [
        "### Correct any inconsistent data entries."
      ],
      "metadata": {
        "id": "RR8q7NzAmXvi"
      }
    },
    {
      "cell_type": "code",
      "source": [
        "\n",
        "df['Type_of_vehicle']=df['Type_of_vehicle'].str.split().str[0]\n",
        "\n",
        "df['Casualty_severity'] = df['Casualty_severity'].replace('na',df['Casualty_severity'].mode()[0])\n",
        "df['Casualty_class'] = df['Casualty_class'].replace('na',df['Casualty_class'].mode()[0])\n",
        "df['Sex_of_casualty'] = df['Sex_of_casualty'].replace('na',df['Sex_of_casualty'].mode()[0])\n",
        "df['Age_band_of_casualty'] = df['Age_band_of_casualty'].replace('na',df['Age_band_of_casualty'].mode()[0])"
      ],
      "metadata": {
        "id": "MmuQ8Bw2pIVz"
      },
      "execution_count": 22,
      "outputs": []
    },
    {
      "cell_type": "markdown",
      "source": [
        "### Ensure data types are appropriate for each column.\n",
        "\n",
        "---\n",
        "\n"
      ],
      "metadata": {
        "id": "ANF5wAzWmYyc"
      }
    },
    {
      "cell_type": "code",
      "source": [
        "df['Time'] = pd.to_datetime(df['Time'], format='%H:%M:%S')"
      ],
      "metadata": {
        "id": "VdN2RV_OpJBV"
      },
      "execution_count": 23,
      "outputs": []
    },
    {
      "cell_type": "markdown",
      "source": [
        "## 2. Exploratory Data Analysis (EDA)"
      ],
      "metadata": {
        "id": "hkp41fRQoUSj"
      }
    },
    {
      "cell_type": "markdown",
      "source": [
        "### Perform summary statistics on the dataset."
      ],
      "metadata": {
        "id": "RQpjcBLfoZgr"
      }
    },
    {
      "cell_type": "code",
      "source": [
        "df.describe()"
      ],
      "metadata": {
        "id": "9CIk-QkApKLp",
        "colab": {
          "base_uri": "https://localhost:8080/",
          "height": 300
        },
        "outputId": "fffbf24d-ab97-4b25-f1db-7f9e579cc926"
      },
      "execution_count": 25,
      "outputs": [
        {
          "output_type": "execute_result",
          "data": {
            "text/plain": [
              "                                Time  Number_of_vehicles_involved  \\\n",
              "count                           3620                  3620.000000   \n",
              "mean   1900-01-01 14:17:19.955801088                     2.017127   \n",
              "min              1900-01-01 00:01:00                     1.000000   \n",
              "25%              1900-01-01 10:30:00                     2.000000   \n",
              "50%              1900-01-01 15:08:00                     2.000000   \n",
              "75%              1900-01-01 18:12:00                     2.000000   \n",
              "max              1900-01-01 23:56:00                     7.000000   \n",
              "std                              NaN                     0.649981   \n",
              "\n",
              "       Number_of_casualties  \n",
              "count           3620.000000  \n",
              "mean               1.534807  \n",
              "min                1.000000  \n",
              "25%                1.000000  \n",
              "50%                1.000000  \n",
              "75%                2.000000  \n",
              "max                8.000000  \n",
              "std                0.997457  "
            ],
            "text/html": [
              "\n",
              "  <div id=\"df-97a6389d-0d60-4f35-a354-c9f25d22beb1\" class=\"colab-df-container\">\n",
              "    <div>\n",
              "<style scoped>\n",
              "    .dataframe tbody tr th:only-of-type {\n",
              "        vertical-align: middle;\n",
              "    }\n",
              "\n",
              "    .dataframe tbody tr th {\n",
              "        vertical-align: top;\n",
              "    }\n",
              "\n",
              "    .dataframe thead th {\n",
              "        text-align: right;\n",
              "    }\n",
              "</style>\n",
              "<table border=\"1\" class=\"dataframe\">\n",
              "  <thead>\n",
              "    <tr style=\"text-align: right;\">\n",
              "      <th></th>\n",
              "      <th>Time</th>\n",
              "      <th>Number_of_vehicles_involved</th>\n",
              "      <th>Number_of_casualties</th>\n",
              "    </tr>\n",
              "  </thead>\n",
              "  <tbody>\n",
              "    <tr>\n",
              "      <th>count</th>\n",
              "      <td>3620</td>\n",
              "      <td>3620.000000</td>\n",
              "      <td>3620.000000</td>\n",
              "    </tr>\n",
              "    <tr>\n",
              "      <th>mean</th>\n",
              "      <td>1900-01-01 14:17:19.955801088</td>\n",
              "      <td>2.017127</td>\n",
              "      <td>1.534807</td>\n",
              "    </tr>\n",
              "    <tr>\n",
              "      <th>min</th>\n",
              "      <td>1900-01-01 00:01:00</td>\n",
              "      <td>1.000000</td>\n",
              "      <td>1.000000</td>\n",
              "    </tr>\n",
              "    <tr>\n",
              "      <th>25%</th>\n",
              "      <td>1900-01-01 10:30:00</td>\n",
              "      <td>2.000000</td>\n",
              "      <td>1.000000</td>\n",
              "    </tr>\n",
              "    <tr>\n",
              "      <th>50%</th>\n",
              "      <td>1900-01-01 15:08:00</td>\n",
              "      <td>2.000000</td>\n",
              "      <td>1.000000</td>\n",
              "    </tr>\n",
              "    <tr>\n",
              "      <th>75%</th>\n",
              "      <td>1900-01-01 18:12:00</td>\n",
              "      <td>2.000000</td>\n",
              "      <td>2.000000</td>\n",
              "    </tr>\n",
              "    <tr>\n",
              "      <th>max</th>\n",
              "      <td>1900-01-01 23:56:00</td>\n",
              "      <td>7.000000</td>\n",
              "      <td>8.000000</td>\n",
              "    </tr>\n",
              "    <tr>\n",
              "      <th>std</th>\n",
              "      <td>NaN</td>\n",
              "      <td>0.649981</td>\n",
              "      <td>0.997457</td>\n",
              "    </tr>\n",
              "  </tbody>\n",
              "</table>\n",
              "</div>\n",
              "    <div class=\"colab-df-buttons\">\n",
              "\n",
              "  <div class=\"colab-df-container\">\n",
              "    <button class=\"colab-df-convert\" onclick=\"convertToInteractive('df-97a6389d-0d60-4f35-a354-c9f25d22beb1')\"\n",
              "            title=\"Convert this dataframe to an interactive table.\"\n",
              "            style=\"display:none;\">\n",
              "\n",
              "  <svg xmlns=\"http://www.w3.org/2000/svg\" height=\"24px\" viewBox=\"0 -960 960 960\">\n",
              "    <path d=\"M120-120v-720h720v720H120Zm60-500h600v-160H180v160Zm220 220h160v-160H400v160Zm0 220h160v-160H400v160ZM180-400h160v-160H180v160Zm440 0h160v-160H620v160ZM180-180h160v-160H180v160Zm440 0h160v-160H620v160Z\"/>\n",
              "  </svg>\n",
              "    </button>\n",
              "\n",
              "  <style>\n",
              "    .colab-df-container {\n",
              "      display:flex;\n",
              "      gap: 12px;\n",
              "    }\n",
              "\n",
              "    .colab-df-convert {\n",
              "      background-color: #E8F0FE;\n",
              "      border: none;\n",
              "      border-radius: 50%;\n",
              "      cursor: pointer;\n",
              "      display: none;\n",
              "      fill: #1967D2;\n",
              "      height: 32px;\n",
              "      padding: 0 0 0 0;\n",
              "      width: 32px;\n",
              "    }\n",
              "\n",
              "    .colab-df-convert:hover {\n",
              "      background-color: #E2EBFA;\n",
              "      box-shadow: 0px 1px 2px rgba(60, 64, 67, 0.3), 0px 1px 3px 1px rgba(60, 64, 67, 0.15);\n",
              "      fill: #174EA6;\n",
              "    }\n",
              "\n",
              "    .colab-df-buttons div {\n",
              "      margin-bottom: 4px;\n",
              "    }\n",
              "\n",
              "    [theme=dark] .colab-df-convert {\n",
              "      background-color: #3B4455;\n",
              "      fill: #D2E3FC;\n",
              "    }\n",
              "\n",
              "    [theme=dark] .colab-df-convert:hover {\n",
              "      background-color: #434B5C;\n",
              "      box-shadow: 0px 1px 3px 1px rgba(0, 0, 0, 0.15);\n",
              "      filter: drop-shadow(0px 1px 2px rgba(0, 0, 0, 0.3));\n",
              "      fill: #FFFFFF;\n",
              "    }\n",
              "  </style>\n",
              "\n",
              "    <script>\n",
              "      const buttonEl =\n",
              "        document.querySelector('#df-97a6389d-0d60-4f35-a354-c9f25d22beb1 button.colab-df-convert');\n",
              "      buttonEl.style.display =\n",
              "        google.colab.kernel.accessAllowed ? 'block' : 'none';\n",
              "\n",
              "      async function convertToInteractive(key) {\n",
              "        const element = document.querySelector('#df-97a6389d-0d60-4f35-a354-c9f25d22beb1');\n",
              "        const dataTable =\n",
              "          await google.colab.kernel.invokeFunction('convertToInteractive',\n",
              "                                                    [key], {});\n",
              "        if (!dataTable) return;\n",
              "\n",
              "        const docLinkHtml = 'Like what you see? Visit the ' +\n",
              "          '<a target=\"_blank\" href=https://colab.research.google.com/notebooks/data_table.ipynb>data table notebook</a>'\n",
              "          + ' to learn more about interactive tables.';\n",
              "        element.innerHTML = '';\n",
              "        dataTable['output_type'] = 'display_data';\n",
              "        await google.colab.output.renderOutput(dataTable, element);\n",
              "        const docLink = document.createElement('div');\n",
              "        docLink.innerHTML = docLinkHtml;\n",
              "        element.appendChild(docLink);\n",
              "      }\n",
              "    </script>\n",
              "  </div>\n",
              "\n",
              "\n",
              "<div id=\"df-bc31ca5a-5a03-452c-a313-f21db84986da\">\n",
              "  <button class=\"colab-df-quickchart\" onclick=\"quickchart('df-bc31ca5a-5a03-452c-a313-f21db84986da')\"\n",
              "            title=\"Suggest charts\"\n",
              "            style=\"display:none;\">\n",
              "\n",
              "<svg xmlns=\"http://www.w3.org/2000/svg\" height=\"24px\"viewBox=\"0 0 24 24\"\n",
              "     width=\"24px\">\n",
              "    <g>\n",
              "        <path d=\"M19 3H5c-1.1 0-2 .9-2 2v14c0 1.1.9 2 2 2h14c1.1 0 2-.9 2-2V5c0-1.1-.9-2-2-2zM9 17H7v-7h2v7zm4 0h-2V7h2v10zm4 0h-2v-4h2v4z\"/>\n",
              "    </g>\n",
              "</svg>\n",
              "  </button>\n",
              "\n",
              "<style>\n",
              "  .colab-df-quickchart {\n",
              "      --bg-color: #E8F0FE;\n",
              "      --fill-color: #1967D2;\n",
              "      --hover-bg-color: #E2EBFA;\n",
              "      --hover-fill-color: #174EA6;\n",
              "      --disabled-fill-color: #AAA;\n",
              "      --disabled-bg-color: #DDD;\n",
              "  }\n",
              "\n",
              "  [theme=dark] .colab-df-quickchart {\n",
              "      --bg-color: #3B4455;\n",
              "      --fill-color: #D2E3FC;\n",
              "      --hover-bg-color: #434B5C;\n",
              "      --hover-fill-color: #FFFFFF;\n",
              "      --disabled-bg-color: #3B4455;\n",
              "      --disabled-fill-color: #666;\n",
              "  }\n",
              "\n",
              "  .colab-df-quickchart {\n",
              "    background-color: var(--bg-color);\n",
              "    border: none;\n",
              "    border-radius: 50%;\n",
              "    cursor: pointer;\n",
              "    display: none;\n",
              "    fill: var(--fill-color);\n",
              "    height: 32px;\n",
              "    padding: 0;\n",
              "    width: 32px;\n",
              "  }\n",
              "\n",
              "  .colab-df-quickchart:hover {\n",
              "    background-color: var(--hover-bg-color);\n",
              "    box-shadow: 0 1px 2px rgba(60, 64, 67, 0.3), 0 1px 3px 1px rgba(60, 64, 67, 0.15);\n",
              "    fill: var(--button-hover-fill-color);\n",
              "  }\n",
              "\n",
              "  .colab-df-quickchart-complete:disabled,\n",
              "  .colab-df-quickchart-complete:disabled:hover {\n",
              "    background-color: var(--disabled-bg-color);\n",
              "    fill: var(--disabled-fill-color);\n",
              "    box-shadow: none;\n",
              "  }\n",
              "\n",
              "  .colab-df-spinner {\n",
              "    border: 2px solid var(--fill-color);\n",
              "    border-color: transparent;\n",
              "    border-bottom-color: var(--fill-color);\n",
              "    animation:\n",
              "      spin 1s steps(1) infinite;\n",
              "  }\n",
              "\n",
              "  @keyframes spin {\n",
              "    0% {\n",
              "      border-color: transparent;\n",
              "      border-bottom-color: var(--fill-color);\n",
              "      border-left-color: var(--fill-color);\n",
              "    }\n",
              "    20% {\n",
              "      border-color: transparent;\n",
              "      border-left-color: var(--fill-color);\n",
              "      border-top-color: var(--fill-color);\n",
              "    }\n",
              "    30% {\n",
              "      border-color: transparent;\n",
              "      border-left-color: var(--fill-color);\n",
              "      border-top-color: var(--fill-color);\n",
              "      border-right-color: var(--fill-color);\n",
              "    }\n",
              "    40% {\n",
              "      border-color: transparent;\n",
              "      border-right-color: var(--fill-color);\n",
              "      border-top-color: var(--fill-color);\n",
              "    }\n",
              "    60% {\n",
              "      border-color: transparent;\n",
              "      border-right-color: var(--fill-color);\n",
              "    }\n",
              "    80% {\n",
              "      border-color: transparent;\n",
              "      border-right-color: var(--fill-color);\n",
              "      border-bottom-color: var(--fill-color);\n",
              "    }\n",
              "    90% {\n",
              "      border-color: transparent;\n",
              "      border-bottom-color: var(--fill-color);\n",
              "    }\n",
              "  }\n",
              "</style>\n",
              "\n",
              "  <script>\n",
              "    async function quickchart(key) {\n",
              "      const quickchartButtonEl =\n",
              "        document.querySelector('#' + key + ' button');\n",
              "      quickchartButtonEl.disabled = true;  // To prevent multiple clicks.\n",
              "      quickchartButtonEl.classList.add('colab-df-spinner');\n",
              "      try {\n",
              "        const charts = await google.colab.kernel.invokeFunction(\n",
              "            'suggestCharts', [key], {});\n",
              "      } catch (error) {\n",
              "        console.error('Error during call to suggestCharts:', error);\n",
              "      }\n",
              "      quickchartButtonEl.classList.remove('colab-df-spinner');\n",
              "      quickchartButtonEl.classList.add('colab-df-quickchart-complete');\n",
              "    }\n",
              "    (() => {\n",
              "      let quickchartButtonEl =\n",
              "        document.querySelector('#df-bc31ca5a-5a03-452c-a313-f21db84986da button');\n",
              "      quickchartButtonEl.style.display =\n",
              "        google.colab.kernel.accessAllowed ? 'block' : 'none';\n",
              "    })();\n",
              "  </script>\n",
              "</div>\n",
              "\n",
              "    </div>\n",
              "  </div>\n"
            ],
            "application/vnd.google.colaboratory.intrinsic+json": {
              "type": "dataframe",
              "summary": "{\n  \"name\": \"df\",\n  \"rows\": 8,\n  \"fields\": [\n    {\n      \"column\": \"Time\",\n      \"properties\": {\n        \"dtype\": \"date\",\n        \"min\": \"1900-01-01 00:01:00\",\n        \"max\": \"1970-01-01 00:00:00.000003620\",\n        \"num_unique_values\": 7,\n        \"samples\": [\n          \"3620\",\n          \"1900-01-01 14:17:19.955801088\",\n          \"1900-01-01 18:12:00\"\n        ],\n        \"semantic_type\": \"\",\n        \"description\": \"\"\n      }\n    },\n    {\n      \"column\": \"Number_of_vehicles_involved\",\n      \"properties\": {\n        \"dtype\": \"number\",\n        \"std\": 1279.022954915679,\n        \"min\": 0.6499810020279255,\n        \"max\": 3620.0,\n        \"num_unique_values\": 6,\n        \"samples\": [\n          3620.0,\n          2.0171270718232046,\n          0.6499810020279255\n        ],\n        \"semantic_type\": \"\",\n        \"description\": \"\"\n      }\n    },\n    {\n      \"column\": \"Number_of_casualties\",\n      \"properties\": {\n        \"dtype\": \"number\",\n        \"std\": 1279.0810035734646,\n        \"min\": 0.9974566114897481,\n        \"max\": 3620.0,\n        \"num_unique_values\": 6,\n        \"samples\": [\n          3620.0,\n          1.5348066298342542,\n          0.9974566114897481\n        ],\n        \"semantic_type\": \"\",\n        \"description\": \"\"\n      }\n    }\n  ]\n}"
            }
          },
          "metadata": {},
          "execution_count": 25
        }
      ]
    },
    {
      "cell_type": "markdown",
      "source": [
        "### Identify and analyze patterns in the data."
      ],
      "metadata": {
        "id": "OjwISK8nocUT"
      }
    },
    {
      "cell_type": "code",
      "source": [
        "df['Number_of_vehicles_involved'].plot.hist()\n"
      ],
      "metadata": {
        "id": "gw8jkuYIpKeH",
        "colab": {
          "base_uri": "https://localhost:8080/",
          "height": 447
        },
        "outputId": "c5fd0e87-db27-4adc-bddf-bbb29177256d"
      },
      "execution_count": 26,
      "outputs": [
        {
          "output_type": "execute_result",
          "data": {
            "text/plain": [
              "<Axes: ylabel='Frequency'>"
            ]
          },
          "metadata": {},
          "execution_count": 26
        },
        {
          "output_type": "display_data",
          "data": {
            "text/plain": [
              "<Figure size 640x480 with 1 Axes>"
            ],
            "image/png": "[encoded data removed]"
          },
          "metadata": {}
        }
      ]
    },
    {
      "cell_type": "markdown",
      "source": [
        "### Visualize the distribution of key variables (e.g., Age_band_of_driver, Type_of_vehicle)."
      ],
      "metadata": {
        "id": "4k-cDvL8oflR"
      }
    },
    {
      "cell_type": "code",
      "source": [],
      "metadata": {
        "id": "V7I156lepKv1"
      },
      "execution_count": 23,
      "outputs": []
    },
    {
      "cell_type": "markdown",
      "source": [
        "### Explore relationships between variables (e.g., Age_band_of_driver vs. Accident_severity).\n"
      ],
      "metadata": {
        "id": "Lz4jQtNBoih-"
      }
    },
    {
      "cell_type": "code",
      "source": [
        "import seaborn as sns\n",
        "import matplotlib.pyplot as plt\n",
        "\n",
        "plt.figure(figsize=(10,8))\n",
        "sns.heatmap(df._get_numeric_data().corr(),annot=True)\n",
        "plt.show()"
      ],
      "metadata": {
        "id": "2Txh8eI1pLJQ",
        "colab": {
          "base_uri": "https://localhost:8080/",
          "height": 682
        },
        "outputId": "e8a3ba98-16ce-4f96-93ad-463a5ab6811e"
      },
      "execution_count": 27,
      "outputs": [
        {
          "output_type": "display_data",
          "data": {
            "text/plain": [
              "<Figure size 1000x800 with 2 Axes>"
            ],
            "image/png": "[encoded data removed]"
          },
          "metadata": {}
        }
      ]
    },
    {
      "cell_type": "markdown",
      "source": [
        "## 3. Data Visualization"
      ],
      "metadata": {
        "id": "mZiDh1gronRD"
      }
    },
    {
      "cell_type": "markdown",
      "source": [
        "* Ensure the visualizations are clear and informative."
      ],
      "metadata": {
        "id": "WL4wC3iSqWuO"
      }
    },
    {
      "cell_type": "markdown",
      "source": [
        "### Create visualizations to illustrate the findings from the EDA.\n"
      ],
      "metadata": {
        "id": "VfUFvWxUopoh"
      }
    },
    {
      "cell_type": "code",
      "source": [],
      "metadata": {
        "id": "KAlacPHypMVh"
      },
      "execution_count": 23,
      "outputs": []
    },
    {
      "cell_type": "markdown",
      "source": [
        "### Use appropriate plots such as histograms, bar charts, pie charts, scatter plots, and heatmaps."
      ],
      "metadata": {
        "id": "G4KCbzg4osSW"
      }
    },
    {
      "cell_type": "code",
      "source": [],
      "metadata": {
        "id": "IKyAKt5apMp4"
      },
      "execution_count": 23,
      "outputs": []
    },
    {
      "cell_type": "markdown",
      "source": [
        "## 4. Insights and Conclusions"
      ],
      "metadata": {
        "id": "breh9YkZoxiT"
      }
    },
    {
      "cell_type": "markdown",
      "source": [
        "* <h3>Summarize the key insights gained from the data analysis.<h3/>\n",
        "* <h3>Draw conclusions based on the patterns observed in the data.<h3/>"
      ],
      "metadata": {
        "id": "a9akovSwo5l2"
      }
    },
    {
      "cell_type": "code",
      "source": [],
      "metadata": {
        "id": "2-U6-y6DLe_y"
      },
      "execution_count": 23,
      "outputs": []
    }
  ]
}