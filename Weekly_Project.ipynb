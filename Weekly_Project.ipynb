{
  "cells": [
    {
      "cell_type": "markdown",
      "metadata": {
        "id": "view-in-github",
        "colab_type": "text"
      },
      "source": [
        "<a href=\"https://colab.research.google.com/github/rahafbader/T5/blob/main/Weekly_Project.ipynb\" target=\"_parent\"><img src=\"https://colab.research.google.com/assets/colab-badge.svg\" alt=\"Open In Colab\"/></a>"
      ]
    },
    {
      "cell_type": "markdown",
      "id": "5749a10a",
      "metadata": {
        "id": "5749a10a"
      },
      "source": [
        "# Weekly Project 2!"
      ]
    },
    {
      "cell_type": "markdown",
      "id": "92d44841",
      "metadata": {
        "id": "92d44841"
      },
      "source": [
        "## Introduction to Road Traffic Accidents (RTA) Dataset\n",
        "\n",
        "### Dataset Overview\n",
        "The RTA Dataset provides a detailed snapshot of road traffic accidents, capturing a range of data from accident conditions to casualty details. This dataset is essential for analyzing patterns and causes of accidents to improve road safety.\n",
        "\n",
        "### Data Characteristics\n",
        "- **Entries**: The dataset contains 12,316 entries.\n",
        "- **Features**: There are 32 features in the dataset, which include:\n",
        "  - `Time`: Time when the accident occurred.\n",
        "  - `Day_of_week`: Day of the week.\n",
        "  - `Age_band_of_driver`: Age group of the driver involved.\n",
        "  - `Sex_of_driver`: Gender of the driver.\n",
        "  - `Educational_level`: Educational level of the driver.\n",
        "  - `Type_of_vehicle`: Type of vehicle involved in the accident.\n",
        "  - `Cause_of_accident`: Reported cause of the accident.\n",
        "  - `Accident_severity`: Severity of the accident.\n",
        "- **Target Column**: `Accident_severity` is used as the target column for modeling. This feature classifies the severity of each accident.\n",
        "\n",
        "### Objective\n",
        "Students will use this dataset to apply various data visualization, modeling, and evaluation techniques learned in class. The primary goal is to build models that can accurately predict the severity of accidents and to identify the key factors that contribute to severe accidents."
      ]
    },
    {
      "cell_type": "markdown",
      "id": "177291c2",
      "metadata": {
        "id": "177291c2"
      },
      "source": [
        "## Import Libraries\n",
        "Import all the necessary libraries here. Include libraries for handling data (like pandas), visualization (like matplotlib and seaborn), and modeling (like scikit-learn)."
      ]
    },
    {
      "cell_type": "code",
      "execution_count": 78,
      "id": "2ad2bd0e",
      "metadata": {
        "id": "2ad2bd0e"
      },
      "outputs": [],
      "source": [
        "import pandas as pd\n",
        "import numpy as np\n",
        "import seaborn as sns\n",
        "import matplotlib.pyplot as plt"
      ]
    },
    {
      "cell_type": "markdown",
      "id": "5f236af2",
      "metadata": {
        "id": "5f236af2"
      },
      "source": [
        "## Load Data\n",
        "Load the dataset from the provided CSV file into a DataFrame."
      ]
    },
    {
      "cell_type": "code",
      "execution_count": 79,
      "id": "2d3f76e8",
      "metadata": {
        "id": "2d3f76e8",
        "outputId": "2c82b74f-f47f-4f9a-fe80-1387bf92b01f",
        "colab": {
          "base_uri": "https://localhost:8080/"
        }
      },
      "outputs": [
        {
          "output_type": "stream",
          "name": "stdout",
          "text": [
            "<class 'pandas.core.frame.DataFrame'>\n",
            "RangeIndex: 12316 entries, 0 to 12315\n",
            "Data columns (total 32 columns):\n",
            " #   Column                       Non-Null Count  Dtype \n",
            "---  ------                       --------------  ----- \n",
            " 0   Time                         12316 non-null  object\n",
            " 1   Day_of_week                  12316 non-null  object\n",
            " 2   Age_band_of_driver           12316 non-null  object\n",
            " 3   Sex_of_driver                12316 non-null  object\n",
            " 4   Educational_level            11575 non-null  object\n",
            " 5   Vehicle_driver_relation      11737 non-null  object\n",
            " 6   Driving_experience           11487 non-null  object\n",
            " 7   Type_of_vehicle              11366 non-null  object\n",
            " 8   Owner_of_vehicle             11834 non-null  object\n",
            " 9   Service_year_of_vehicle      8388 non-null   object\n",
            " 10  Defect_of_vehicle            7889 non-null   object\n",
            " 11  Area_accident_occured        12077 non-null  object\n",
            " 12  Lanes_or_Medians             11931 non-null  object\n",
            " 13  Road_allignment              12174 non-null  object\n",
            " 14  Types_of_Junction            11429 non-null  object\n",
            " 15  Road_surface_type            12144 non-null  object\n",
            " 16  Road_surface_conditions      12316 non-null  object\n",
            " 17  Light_conditions             12316 non-null  object\n",
            " 18  Weather_conditions           12316 non-null  object\n",
            " 19  Type_of_collision            12161 non-null  object\n",
            " 20  Number_of_vehicles_involved  12316 non-null  int64 \n",
            " 21  Number_of_casualties         12316 non-null  int64 \n",
            " 22  Vehicle_movement             12008 non-null  object\n",
            " 23  Casualty_class               12316 non-null  object\n",
            " 24  Sex_of_casualty              12316 non-null  object\n",
            " 25  Age_band_of_casualty         12316 non-null  object\n",
            " 26  Casualty_severity            12316 non-null  object\n",
            " 27  Work_of_casuality            9118 non-null   object\n",
            " 28  Fitness_of_casuality         9681 non-null   object\n",
            " 29  Pedestrian_movement          12316 non-null  object\n",
            " 30  Cause_of_accident            12316 non-null  object\n",
            " 31  Accident_severity            12316 non-null  object\n",
            "dtypes: int64(2), object(30)\n",
            "memory usage: 3.0+ MB\n"
          ]
        }
      ],
      "source": [
        "\n",
        "df=pd.read_csv(\"/content/RTA_Dataset.csv\")\n",
        "df.info()"
      ]
    },
    {
      "cell_type": "markdown",
      "id": "b9215c2f",
      "metadata": {
        "id": "b9215c2f"
      },
      "source": [
        "## Exploratory Data Analysis (EDA)\n",
        "Perform EDA to understand the data better. This involves several steps to summarize the main characteristics, uncover patterns, and establish relationships:\n",
        "* Find the dataset information and observe the datatypes.\n",
        "* Check the shape of the data to understand its structure.\n",
        "* View the the data with various functions to get an initial sense of the data.\n",
        "* Perform summary statistics on the dataset to grasp central tendencies and variability.\n",
        "* Check for duplicated data.\n",
        "* Check for null values.\n",
        "\n",
        "And apply more if needed!\n"
      ]
    },
    {
      "cell_type": "code",
      "execution_count": 80,
      "id": "b206f836",
      "metadata": {
        "id": "b206f836",
        "outputId": "669724c6-89be-4829-e896-7ead6d2950b5",
        "colab": {
          "base_uri": "https://localhost:8080/"
        }
      },
      "outputs": [
        {
          "output_type": "stream",
          "name": "stdout",
          "text": [
            "<bound method DataFrame.sum of         Time  Day_of_week  Age_band_of_driver  Sex_of_driver  \\\n",
            "0      False        False               False          False   \n",
            "1      False        False               False          False   \n",
            "2      False        False               False          False   \n",
            "3      False        False               False          False   \n",
            "4      False        False               False          False   \n",
            "...      ...          ...                 ...            ...   \n",
            "12311  False        False               False          False   \n",
            "12312  False        False               False          False   \n",
            "12313  False        False               False          False   \n",
            "12314  False        False               False          False   \n",
            "12315  False        False               False          False   \n",
            "\n",
            "       Educational_level  Vehicle_driver_relation  Driving_experience  \\\n",
            "0                  False                    False               False   \n",
            "1                  False                    False               False   \n",
            "2                  False                    False               False   \n",
            "3                  False                    False               False   \n",
            "4                  False                    False               False   \n",
            "...                  ...                      ...                 ...   \n",
            "12311               True                    False               False   \n",
            "12312              False                    False               False   \n",
            "12313              False                    False               False   \n",
            "12314              False                    False               False   \n",
            "12315              False                    False               False   \n",
            "\n",
            "       Type_of_vehicle  Owner_of_vehicle  Service_year_of_vehicle  ...  \\\n",
            "0                False             False                    False  ...   \n",
            "1                False             False                    False  ...   \n",
            "2                False             False                     True  ...   \n",
            "3                False             False                     True  ...   \n",
            "4                 True             False                    False  ...   \n",
            "...                ...               ...                      ...  ...   \n",
            "12311            False             False                     True  ...   \n",
            "12312            False             False                     True  ...   \n",
            "12313            False             False                    False  ...   \n",
            "12314            False             False                    False  ...   \n",
            "12315            False             False                    False  ...   \n",
            "\n",
            "       Vehicle_movement  Casualty_class  Sex_of_casualty  \\\n",
            "0                 False           False            False   \n",
            "1                 False           False            False   \n",
            "2                 False           False            False   \n",
            "3                 False           False            False   \n",
            "4                 False           False            False   \n",
            "...                 ...             ...              ...   \n",
            "12311             False           False            False   \n",
            "12312             False           False            False   \n",
            "12313             False           False            False   \n",
            "12314             False           False            False   \n",
            "12315             False           False            False   \n",
            "\n",
            "       Age_band_of_casualty  Casualty_severity  Work_of_casuality  \\\n",
            "0                     False              False               True   \n",
            "1                     False              False               True   \n",
            "2                     False              False              False   \n",
            "3                     False              False              False   \n",
            "4                     False              False               True   \n",
            "...                     ...                ...                ...   \n",
            "12311                 False              False              False   \n",
            "12312                 False              False              False   \n",
            "12313                 False              False              False   \n",
            "12314                 False              False              False   \n",
            "12315                 False              False              False   \n",
            "\n",
            "       Fitness_of_casuality  Pedestrian_movement  Cause_of_accident  \\\n",
            "0                      True                False              False   \n",
            "1                      True                False              False   \n",
            "2                      True                False              False   \n",
            "3                     False                False              False   \n",
            "4                      True                False              False   \n",
            "...                     ...                  ...                ...   \n",
            "12311                 False                False              False   \n",
            "12312                 False                False              False   \n",
            "12313                 False                False              False   \n",
            "12314                 False                False              False   \n",
            "12315                 False                False              False   \n",
            "\n",
            "       Accident_severity  \n",
            "0                  False  \n",
            "1                  False  \n",
            "2                  False  \n",
            "3                  False  \n",
            "4                  False  \n",
            "...                  ...  \n",
            "12311              False  \n",
            "12312              False  \n",
            "12313              False  \n",
            "12314              False  \n",
            "12315              False  \n",
            "\n",
            "[12316 rows x 32 columns]>\n",
            "0\n",
            "       Time Day_of_week Age_band_of_driver Sex_of_driver   Educational_level  \\\n",
            "0  17:02:00      Monday              18-30          Male   Above high school   \n",
            "1  17:02:00      Monday              31-50          Male  Junior high school   \n",
            "2  17:02:00      Monday              18-30          Male  Junior high school   \n",
            "3   1:06:00      Sunday              18-30          Male  Junior high school   \n",
            "4   1:06:00      Sunday              18-30          Male  Junior high school   \n",
            "\n",
            "  Vehicle_driver_relation Driving_experience      Type_of_vehicle  \\\n",
            "0                Employee              1-2yr           Automobile   \n",
            "1                Employee         Above 10yr  Public (> 45 seats)   \n",
            "2                Employee              1-2yr      Lorry (41?100Q)   \n",
            "3                Employee             5-10yr  Public (> 45 seats)   \n",
            "4                Employee              2-5yr                  NaN   \n",
            "\n",
            "  Owner_of_vehicle Service_year_of_vehicle  ... Vehicle_movement  \\\n",
            "0            Owner              Above 10yr  ...   Going straight   \n",
            "1            Owner                 5-10yrs  ...   Going straight   \n",
            "2            Owner                     NaN  ...   Going straight   \n",
            "3     Governmental                     NaN  ...   Going straight   \n",
            "4            Owner                 5-10yrs  ...   Going straight   \n",
            "\n",
            "    Casualty_class Sex_of_casualty Age_band_of_casualty Casualty_severity  \\\n",
            "0               na              na                   na                na   \n",
            "1               na              na                   na                na   \n",
            "2  Driver or rider            Male                31-50                 3   \n",
            "3       Pedestrian          Female                18-30                 3   \n",
            "4               na              na                   na                na   \n",
            "\n",
            "  Work_of_casuality Fitness_of_casuality Pedestrian_movement  \\\n",
            "0               NaN                  NaN    Not a Pedestrian   \n",
            "1               NaN                  NaN    Not a Pedestrian   \n",
            "2            Driver                  NaN    Not a Pedestrian   \n",
            "3            Driver               Normal    Not a Pedestrian   \n",
            "4               NaN                  NaN    Not a Pedestrian   \n",
            "\n",
            "            Cause_of_accident Accident_severity  \n",
            "0             Moving Backward     Slight Injury  \n",
            "1                  Overtaking     Slight Injury  \n",
            "2   Changing lane to the left    Serious Injury  \n",
            "3  Changing lane to the right     Slight Injury  \n",
            "4                  Overtaking     Slight Injury  \n",
            "\n",
            "[5 rows x 32 columns]\n"
          ]
        }
      ],
      "source": [
        "print(df.isnull().sum)\n",
        "print(df.duplicated().sum())\n",
        "print(df.head())"
      ]
    },
    {
      "cell_type": "markdown",
      "id": "bccfb706",
      "metadata": {
        "id": "bccfb706"
      },
      "source": [
        "## Data Preprocessing\n",
        "Data preprocessing is essential for transforming raw data into a format suitable for further analysis and modeling. Follow these steps to ensure your data is ready for predictive modeling or advanced analytics:\n",
        "- **Handling Missing Values**: Replace missing values with appropriate statistics (mean, median, mode) or use more complex imputation techniques.\n",
        "- **Normalization/Scaling**: Scale data to a small, specified range like 0 to 1, or transform it to have a mean of zero and a standard deviation of one.\n",
        "- **Label Encoding**: Convert categorical text data into model-understandable numbers where the labels are ordered.\n",
        "- **One-Hot Encoding**: Use for nominal categorical data where no ordinal relationship exists to transform the data into a binary column for each category. (Be careful not to increase the dimensionality significantly)\n",
        "- **Detection and Treatment of Outliers**: Use statistical tests, box plots, or scatter plots to identify outliers and then cap, trim, or use robust methods to reduce the effect of outliers, depending on the context.\n",
        "- **Feature Engineering**: Enhance your dataset by creating new features and transforming existing ones. This might involve combining data from different columns, applying transformations, or reducing dimensionality with techniques like PCA to improve model performance.\n",
        "\n",
        "Consider these steps as a foundation, and feel free to introduce additional preprocessing techniques as needed to address specific characteristics of your dataset."
      ]
    },
    {
      "cell_type": "code",
      "execution_count": 81,
      "id": "14c4a6fd",
      "metadata": {
        "id": "14c4a6fd",
        "outputId": "6df2b45b-fa4a-4de0-f29e-cce99b77601e",
        "colab": {
          "base_uri": "https://localhost:8080/",
          "height": 962
        }
      },
      "outputs": [
        {
          "output_type": "execute_result",
          "data": {
            "text/plain": [
              "Time                           0\n",
              "Day_of_week                    0\n",
              "Age_band_of_driver             0\n",
              "Sex_of_driver                  0\n",
              "Educational_level              0\n",
              "Vehicle_driver_relation        0\n",
              "Driving_experience             0\n",
              "Type_of_vehicle                0\n",
              "Owner_of_vehicle               0\n",
              "Area_accident_occured          0\n",
              "Lanes_or_Medians               0\n",
              "Road_allignment                0\n",
              "Types_of_Junction              0\n",
              "Road_surface_type              0\n",
              "Road_surface_conditions        0\n",
              "Light_conditions               0\n",
              "Weather_conditions             0\n",
              "Type_of_collision              0\n",
              "Number_of_vehicles_involved    0\n",
              "Number_of_casualties           0\n",
              "Vehicle_movement               0\n",
              "Casualty_class                 0\n",
              "Sex_of_casualty                0\n",
              "Age_band_of_casualty           0\n",
              "Casualty_severity              0\n",
              "Pedestrian_movement            0\n",
              "Cause_of_accident              0\n",
              "Accident_severity              0\n",
              "dtype: int64"
            ],
            "text/html": [
              "<table border=\"1\" class=\"dataframe\">\n",
              "  <thead>\n",
              "    <tr style=\"text-align: right;\">\n",
              "      <th></th>\n",
              "      <th>0</th>\n",
              "    </tr>\n",
              "  </thead>\n",
              "  <tbody>\n",
              "    <tr>\n",
              "      <th>Time</th>\n",
              "      <td>0</td>\n",
              "    </tr>\n",
              "    <tr>\n",
              "      <th>Day_of_week</th>\n",
              "      <td>0</td>\n",
              "    </tr>\n",
              "    <tr>\n",
              "      <th>Age_band_of_driver</th>\n",
              "      <td>0</td>\n",
              "    </tr>\n",
              "    <tr>\n",
              "      <th>Sex_of_driver</th>\n",
              "      <td>0</td>\n",
              "    </tr>\n",
              "    <tr>\n",
              "      <th>Educational_level</th>\n",
              "      <td>0</td>\n",
              "    </tr>\n",
              "    <tr>\n",
              "      <th>Vehicle_driver_relation</th>\n",
              "      <td>0</td>\n",
              "    </tr>\n",
              "    <tr>\n",
              "      <th>Driving_experience</th>\n",
              "      <td>0</td>\n",
              "    </tr>\n",
              "    <tr>\n",
              "      <th>Type_of_vehicle</th>\n",
              "      <td>0</td>\n",
              "    </tr>\n",
              "    <tr>\n",
              "      <th>Owner_of_vehicle</th>\n",
              "      <td>0</td>\n",
              "    </tr>\n",
              "    <tr>\n",
              "      <th>Area_accident_occured</th>\n",
              "      <td>0</td>\n",
              "    </tr>\n",
              "    <tr>\n",
              "      <th>Lanes_or_Medians</th>\n",
              "      <td>0</td>\n",
              "    </tr>\n",
              "    <tr>\n",
              "      <th>Road_allignment</th>\n",
              "      <td>0</td>\n",
              "    </tr>\n",
              "    <tr>\n",
              "      <th>Types_of_Junction</th>\n",
              "      <td>0</td>\n",
              "    </tr>\n",
              "    <tr>\n",
              "      <th>Road_surface_type</th>\n",
              "      <td>0</td>\n",
              "    </tr>\n",
              "    <tr>\n",
              "      <th>Road_surface_conditions</th>\n",
              "      <td>0</td>\n",
              "    </tr>\n",
              "    <tr>\n",
              "      <th>Light_conditions</th>\n",
              "      <td>0</td>\n",
              "    </tr>\n",
              "    <tr>\n",
              "      <th>Weather_conditions</th>\n",
              "      <td>0</td>\n",
              "    </tr>\n",
              "    <tr>\n",
              "      <th>Type_of_collision</th>\n",
              "      <td>0</td>\n",
              "    </tr>\n",
              "    <tr>\n",
              "      <th>Number_of_vehicles_involved</th>\n",
              "      <td>0</td>\n",
              "    </tr>\n",
              "    <tr>\n",
              "      <th>Number_of_casualties</th>\n",
              "      <td>0</td>\n",
              "    </tr>\n",
              "    <tr>\n",
              "      <th>Vehicle_movement</th>\n",
              "      <td>0</td>\n",
              "    </tr>\n",
              "    <tr>\n",
              "      <th>Casualty_class</th>\n",
              "      <td>0</td>\n",
              "    </tr>\n",
              "    <tr>\n",
              "      <th>Sex_of_casualty</th>\n",
              "      <td>0</td>\n",
              "    </tr>\n",
              "    <tr>\n",
              "      <th>Age_band_of_casualty</th>\n",
              "      <td>0</td>\n",
              "    </tr>\n",
              "    <tr>\n",
              "      <th>Casualty_severity</th>\n",
              "      <td>0</td>\n",
              "    </tr>\n",
              "    <tr>\n",
              "      <th>Pedestrian_movement</th>\n",
              "      <td>0</td>\n",
              "    </tr>\n",
              "    <tr>\n",
              "      <th>Cause_of_accident</th>\n",
              "      <td>0</td>\n",
              "    </tr>\n",
              "    <tr>\n",
              "      <th>Accident_severity</th>\n",
              "      <td>0</td>\n",
              "    </tr>\n",
              "  </tbody>\n",
              "</table><br><label><b>dtype:</b> int64</label>"
            ]
          },
          "metadata": {},
          "execution_count": 81
        }
      ],
      "source": [
        "df['Educational_level'].fillna(df['Educational_level'].mode()[0],inplace=True)\n",
        "df['Age_band_of_driver'].fillna(df['Age_band_of_driver'].mode()[0],inplace=True)\n",
        "df['Vehicle_driver_relation'].fillna(df['Vehicle_driver_relation'].mode()[0],inplace=True)\n",
        "df['Driving_experience'].fillna(df['Driving_experience'].mode()[0],inplace=True)\n",
        "df['Type_of_vehicle'].fillna(df['Type_of_vehicle'].mode()[0],inplace=True)\n",
        "df['Owner_of_vehicle'].fillna(df['Owner_of_vehicle'].mode()[0],inplace=True)\n",
        "df['Area_accident_occured'].fillna(df['Area_accident_occured'].mode()[0],inplace=True)\n",
        "df['Lanes_or_Medians'].fillna(df['Lanes_or_Medians'].mode()[0],inplace=True)\n",
        "df['Road_allignment'].fillna(df['Road_allignment'].mode()[0],inplace=True)\n",
        "df['Types_of_Junction'].fillna(df['Types_of_Junction'].mode()[0],inplace=True)\n",
        "df['Road_surface_type'].fillna(df['Road_surface_type'].mode()[0],inplace=True)\n",
        "df['Vehicle_movement'].fillna(df['Vehicle_movement'].mode()[0],inplace=True)\n",
        "df['Type_of_collision'].fillna(df['Type_of_collision'].mode()[0],inplace=True)\n",
        "\n",
        "\n",
        "df=df.drop('Service_year_of_vehicle',axis=1)\n",
        "df=df.drop('Defect_of_vehicle',axis=1)\n",
        "df=df.drop('Work_of_casuality',axis=1)\n",
        "df=df.drop('Fitness_of_casuality',axis=1)\n",
        "df.isnull().sum()"
      ]
    },
    {
      "cell_type": "markdown",
      "id": "292ab9c9",
      "metadata": {
        "id": "292ab9c9"
      },
      "source": [
        "## Data Visualization\n",
        "Create various plots to visualize the relationships in the data. Consider using the following to show different aspects of the data:\n",
        "\n",
        "* Heatmap of Correlation Matrix.\n",
        "* Line plots.\n",
        "* Scatter plots.\n",
        "* Histograms.\n",
        "* Boxplots.\n",
        "\n",
        "Use more if needed!"
      ]
    },
    {
      "cell_type": "code",
      "execution_count": 82,
      "id": "5cfa25ae",
      "metadata": {
        "id": "5cfa25ae",
        "outputId": "31c9db79-1607-4062-c729-ba00ca2d8c57",
        "colab": {
          "base_uri": "https://localhost:8080/",
          "height": 505
        }
      },
      "outputs": [
        {
          "output_type": "display_data",
          "data": {
            "text/plain": [
              "<Figure size 640x480 with 1 Axes>"
            ],
            "image/png": "[encoded data removed]"
          },
          "metadata": {}
        }
      ],
      "source": [
        "plt.hist(x='Day_of_week', data=df)\n",
        "plt.title('Accidents by Day of the week')\n",
        "plt.xticks(rotation=45)\n",
        "plt.show()"
      ]
    },
    {
      "cell_type": "markdown",
      "id": "40ce1d71",
      "metadata": {
        "id": "40ce1d71"
      },
      "source": [
        "## Feature Selection\n",
        "- Choose features that you believe will most influence the outcome based on your analysis and the insights from your visualizations. Focus on those that appear most impactful to include in your modeling.\n",
        "\n",
        "## Train-Test Split\n",
        "* Divide the dataset into training and testing sets to evaluate the performance of your models."
      ]
    },
    {
      "cell_type": "code",
      "execution_count": 83,
      "id": "f6570748",
      "metadata": {
        "id": "f6570748"
      },
      "outputs": [],
      "source": [
        "from sklearn.model_selection import train_test_split\n",
        "from sklearn.preprocessing import LabelEncoder\n",
        "\n",
        "\n",
        "target_column = 'Accident_severity'\n",
        "X = df.drop(columns=[target_column])\n",
        "y = df[target_column]\n",
        "label_encoders = {}\n",
        "for col in X.columns:\n",
        "    if X[col].dtype == 'object':\n",
        "        le = LabelEncoder()\n",
        "        X[col] = le.fit_transform(X[col])\n",
        "        label_encoders[col] = le\n",
        "\n",
        "\n",
        "x_train, x_test, y_train, y_test = train_test_split(X, y, test_size=0.3, random_state=42)\n"
      ]
    },
    {
      "cell_type": "markdown",
      "id": "e74a5058",
      "metadata": {
        "id": "e74a5058"
      },
      "source": [
        "## Modeling\n",
        "\n",
        "Once the data is split into training and testing sets, the next step is to build models to make predictions. Here, we will explore several machine learning algorithms, each with its unique characteristics and suitability for different types of data and problems. You will implement the following models:\n",
        "\n",
        "### 1. Logistic Regression\n",
        "\n",
        "### 2. Decision Tree Classifier\n",
        "\n",
        "### 3. Support Vector Machine (SVM)\n",
        "\n",
        "### 4. K-Neighbors Classifier\n",
        "\n",
        "### Implementing the Models\n",
        "- For each model, use the training data you have prepared to train the model."
      ]
    },
    {
      "cell_type": "markdown",
      "id": "1a6c9815",
      "metadata": {
        "id": "1a6c9815"
      },
      "source": [
        "#### Logistic Regression"
      ]
    },
    {
      "cell_type": "code",
      "execution_count": 84,
      "id": "d35137d1",
      "metadata": {
        "id": "d35137d1",
        "outputId": "49918a62-affd-468a-cb25-3a25645e6db5",
        "colab": {
          "base_uri": "https://localhost:8080/"
        }
      },
      "outputs": [
        {
          "output_type": "stream",
          "name": "stderr",
          "text": [
            "/usr/local/lib/python3.10/dist-packages/sklearn/linear_model/_logistic.py:460: ConvergenceWarning: lbfgs failed to converge (status=1):\n",
            "STOP: TOTAL NO. of ITERATIONS REACHED LIMIT.\n",
            "\n",
            "Increase the number of iterations (max_iter) or scale the data as shown in:\n",
            "    https://scikit-learn.org/stable/modules/preprocessing.html\n",
            "Please also refer to the documentation for alternative solver options:\n",
            "    https://scikit-learn.org/stable/modules/linear_model.html#logistic-regression\n",
            "  n_iter_i = _check_optimize_result(\n"
          ]
        }
      ],
      "source": [
        "from sklearn.linear_model import LogisticRegression\n",
        "\n",
        "log_model = LogisticRegression(solver=\"lbfgs\", random_state=42)\n",
        "log_model.fit(x_train, y_train)\n",
        "y_pred = log_model.predict(x_test)\n",
        "y_pred_prob = log_model.predict_proba(x_test)[:, 1]"
      ]
    },
    {
      "cell_type": "markdown",
      "id": "0cfd5ecb",
      "metadata": {
        "id": "0cfd5ecb"
      },
      "source": [
        "#### Decision Tree Classifier"
      ]
    },
    {
      "cell_type": "code",
      "execution_count": 85,
      "id": "0ba4edd5",
      "metadata": {
        "id": "0ba4edd5"
      },
      "outputs": [],
      "source": [
        "from sklearn.tree import DecisionTreeClassifier\n",
        "\n",
        "tree_model = DecisionTreeClassifier(random_state=42)\n",
        "tree_model.fit(x_train, y_train)\n",
        "y_pred_tree = tree_model.predict(x_test)\n",
        "y_pred_prob_tree = tree_model.predict_proba(x_test)[:, 1]"
      ]
    },
    {
      "cell_type": "markdown",
      "id": "7ce21487",
      "metadata": {
        "id": "7ce21487"
      },
      "source": [
        "#### Support Vector Machine (SVM)"
      ]
    },
    {
      "cell_type": "code",
      "execution_count": 86,
      "id": "6f448f26",
      "metadata": {
        "id": "6f448f26"
      },
      "outputs": [],
      "source": [
        "from sklearn.svm import SVC\n",
        "svm_model = SVC(probability=True, random_state=42)\n",
        "svm_model.fit(x_train, y_train)\n",
        "\n",
        "y_pred_svm = svm_model.predict(x_test)\n",
        "y_pred_prob_svm = svm_model.predict_proba(x_test)[:, 1]\n"
      ]
    },
    {
      "cell_type": "markdown",
      "id": "f3656932",
      "metadata": {
        "id": "f3656932"
      },
      "source": [
        "#### K-Neighbors Classifier"
      ]
    },
    {
      "cell_type": "code",
      "execution_count": 87,
      "id": "c8c73d33",
      "metadata": {
        "id": "c8c73d33"
      },
      "outputs": [],
      "source": [
        "from sklearn.neighbors import KNeighborsClassifier\n",
        "\n",
        "knn_model = KNeighborsClassifier(weights='distance', n_neighbors=4)\n",
        "knn_model.fit(x_train, y_train)\n",
        "\n",
        "y_pred_knn = knn_model.predict(x_test)\n",
        "y_pred_prob_knn = knn_model.predict_proba(x_test)[:, 1]\n"
      ]
    },
    {
      "cell_type": "code",
      "execution_count": 88,
      "id": "c8328067",
      "metadata": {
        "id": "c8328067",
        "outputId": "ad1200bf-7652-48fd-9a24-2860f02e56f8",
        "colab": {
          "base_uri": "https://localhost:8080/"
        }
      },
      "outputs": [
        {
          "output_type": "stream",
          "name": "stderr",
          "text": [
            "/usr/local/lib/python3.10/dist-packages/sklearn/metrics/_classification.py:1471: UndefinedMetricWarning: Precision is ill-defined and being set to 0.0 in labels with no predicted samples. Use `zero_division` parameter to control this behavior.\n",
            "  _warn_prf(average, modifier, msg_start, len(result))\n",
            "/usr/local/lib/python3.10/dist-packages/sklearn/metrics/_classification.py:1471: UndefinedMetricWarning: Precision is ill-defined and being set to 0.0 in labels with no predicted samples. Use `zero_division` parameter to control this behavior.\n",
            "  _warn_prf(average, modifier, msg_start, len(result))\n"
          ]
        },
        {
          "output_type": "stream",
          "name": "stdout",
          "text": [
            "Logistic Regression:\n",
            "Accuracy: 0.8365358592692829\n",
            "Precision: 0.6997922438433973\n",
            "Recall: 0.8365358592692829\n",
            "F1 Score: 0.7620784972005167\n",
            "Confusion Matrix:\n",
            "[[   0    0   52]\n",
            " [   0    0  552]\n",
            " [   0    0 3091]]\n",
            "Decision Tree Classifier:\n",
            "Accuracy: 0.7604871447902571\n",
            "Precision: 0.7641437605813375\n",
            "Recall: 0.7604871447902571\n",
            "F1 Score: 0.7622786543180372\n",
            "Confusion Matrix:\n",
            "[[  14    6   32]\n",
            " [  15  148  389]\n",
            " [  32  411 2648]]\n",
            "Support Vector Machine (SVM):\n",
            "Accuracy: 0.8365358592692829\n",
            "Precision: 0.6997922438433973\n",
            "Recall: 0.8365358592692829\n",
            "F1 Score: 0.7620784972005167\n",
            "Confusion Matrix:\n",
            "[[   0    0   52]\n",
            " [   0    0  552]\n",
            " [   0    0 3091]]\n",
            "K-Neighbors Classifier:\n",
            "Accuracy: 0.8073071718538566\n",
            "Precision: 0.7508057222437349\n",
            "Recall: 0.8073071718538566\n",
            "F1 Score: 0.770332935851636\n",
            "Confusion Matrix:\n",
            "[[   3    3   46]\n",
            " [   0   60  492]\n",
            " [   5  166 2920]]\n"
          ]
        }
      ],
      "source": [
        "from sklearn.metrics import accuracy_score, precision_score, recall_score, f1_score, roc_curve, auc, confusion_matrix\n",
        "\n",
        "accuracy_log = accuracy_score(y_test, y_pred)\n",
        "precision_log = precision_score(y_test, y_pred, average='weighted')\n",
        "recall_log = recall_score(y_test, y_pred, average='weighted')\n",
        "f1_log = f1_score(y_test, y_pred, average='weighted')\n",
        "conf_matrix_log = confusion_matrix(y_test, y_pred)\n",
        "fpr_log, tpr_log, _ = roc_curve(y_test, y_pred_prob, pos_label=log_model.classes_[1])\n",
        "roc_auc_log = auc(fpr_log, tpr_log)\n",
        "print(\"Logistic Regression:\")\n",
        "print(f\"Accuracy: {accuracy_log}\")\n",
        "print(f\"Precision: {precision_log}\")\n",
        "print(f\"Recall: {recall_log}\")\n",
        "print(f\"F1 Score: {f1_log}\")\n",
        "print(\"Confusion Matrix:\")\n",
        "print(conf_matrix_log)\n",
        "\n",
        "#-------------------------------------\n",
        "\n",
        "accuracy_tree = accuracy_score(y_test, y_pred_tree)\n",
        "precision_tree = precision_score(y_test, y_pred_tree, average='weighted')\n",
        "recall_tree = recall_score(y_test, y_pred_tree, average='weighted')\n",
        "f1_tree = f1_score(y_test, y_pred_tree, average='weighted')\n",
        "conf_matrix_tree = confusion_matrix(y_test, y_pred_tree)\n",
        "fpr_tree, tpr_tree, _ = roc_curve(y_test, y_pred_prob_tree, pos_label=tree_model.classes_[1])\n",
        "roc_auc_tree = auc(fpr_tree, tpr_tree)\n",
        "print(\"Decision Tree Classifier:\")\n",
        "print(f\"Accuracy: {accuracy_tree}\")\n",
        "print(f\"Precision: {precision_tree}\")\n",
        "print(f\"Recall: {recall_tree}\")\n",
        "print(f\"F1 Score: {f1_tree}\")\n",
        "print(\"Confusion Matrix:\")\n",
        "print(conf_matrix_tree)\n",
        "\n",
        "#-------------------------\n",
        "accuracy_svm = accuracy_score(y_test, y_pred_svm)\n",
        "precision_svm = precision_score(y_test, y_pred_svm, average='weighted')\n",
        "recall_svm = recall_score(y_test, y_pred_svm, average='weighted')\n",
        "f1_svm = f1_score(y_test, y_pred_svm, average='weighted')\n",
        "conf_matrix_svm = confusion_matrix(y_test, y_pred_svm)\n",
        "fpr_svm, tpr_svm, _ = roc_curve(y_test, y_pred_prob_svm, pos_label=svm_model.classes_[1])\n",
        "roc_auc_svm = auc(fpr_svm, tpr_svm)\n",
        "print(\"Support Vector Machine (SVM):\")\n",
        "print(f\"Accuracy: {accuracy_svm}\")\n",
        "print(f\"Precision: {precision_svm}\")\n",
        "print(f\"Recall: {recall_svm}\")\n",
        "print(f\"F1 Score: {f1_svm}\")\n",
        "print(\"Confusion Matrix:\")\n",
        "print(conf_matrix_svm)\n",
        "\n",
        "#------------------------------------------------\n",
        "accuracy_knn = accuracy_score(y_test, y_pred_knn)\n",
        "precision_knn = precision_score(y_test, y_pred_knn, average='weighted')\n",
        "recall_knn = recall_score(y_test, y_pred_knn, average='weighted')\n",
        "f1_knn = f1_score(y_test, y_pred_knn, average='weighted')\n",
        "conf_matrix_knn = confusion_matrix(y_test, y_pred_knn)\n",
        "fpr_knn, tpr_knn, _ = roc_curve(y_test, y_pred_prob_knn, pos_label=knn_model.classes_[1])\n",
        "roc_auc_knn = auc(fpr_knn, tpr_knn)\n",
        "\n",
        "print(\"K-Neighbors Classifier:\")\n",
        "print(f\"Accuracy: {accuracy_knn}\")\n",
        "print(f\"Precision: {precision_knn}\")\n",
        "print(f\"Recall: {recall_knn}\")\n",
        "print(f\"F1 Score: {f1_knn}\")\n",
        "print(\"Confusion Matrix:\")\n",
        "print(conf_matrix_knn)"
      ]
    },
    {
      "cell_type": "markdown",
      "id": "65f17c12",
      "metadata": {
        "id": "65f17c12"
      },
      "source": [
        "## Project Questions:\n",
        "\n",
        "### Comparative Analysis\n",
        "\n",
        "- **Compare Metrics**: Examine the performance metrics (such as accuracy, precision, and recall) of each model. Document your observations on which model performs best for your dataset and the problem you're addressing.\n",
        "- **Evaluate Trade-offs**: Discuss the trade-offs you encountered when choosing between models. Consider factors like computational efficiency, ease of implementation, and model interpretability.\n",
        "- **Justify Your Choice**: After comparing and evaluating, explain why you believe one model is the best choice. Provide a clear rationale based on the performance metrics and trade-offs discussed.\n",
        "- **Feature Importance**: Identify and discuss the most important features for the best-performing model. How do these features impact the predictions? Use the visualizations you have created to justify your answer if necessary.\n",
        "- **Model Limitations**: Discuss any limitations you encountered with the models you used. Are there any aspects of the data or the problem that these models do not handle well?\n",
        "- **Future Improvements**: Suggest potential improvements or further steps you could take to enhance model performance. This could include trying different algorithms, feature engineering techniques, or tuning hyperparameters."
      ]
    },
    {
      "cell_type": "markdown",
      "source": [],
      "metadata": {
        "id": "XhijKskq9NkZ"
      },
      "id": "XhijKskq9NkZ"
    },
    {
      "cell_type": "markdown",
      "id": "76425529",
      "metadata": {
        "id": "76425529"
      },
      "source": [
        "### Answer Here:"
      ]
    },
    {
      "cell_type": "markdown",
      "source": [
        "\n",
        "Comparative Analysis\n",
        "Compare Metrics:\n",
        "\n",
        "Logistic Regression & SVM: High accuracy (0.8365) but low precision due to no predicted samples for some labels.\n",
        "Decision Tree: Lower accuracy (0.7532) but balanced precision (0.7609).\n",
        "K-Neighbors: Moderate accuracy (0.8027) and good F1 score (0.7641).\n",
        "\n",
        "Evaluate Trade-offs:\n",
        "\n",
        "Logistic Regression & SVM: Simple, efficient, but precision issues.\n",
        "Decision Tree: Easy to interpret, lower accuracy.\n",
        "K-Neighbors: Moderate efficiency, resource-intensive for large data.\n",
        "\n",
        "Justify Your Choice:\n",
        "\n",
        "Logistic Regression/SVM: Chosen for high accuracy and ease of use, despite precision issues.\n",
        "\n",
        "\n",
        "Logistic Regression/SVM: Low precision for some labels.\n",
        "Decision Tree: Overfitting risk.\n",
        "Future Improvements:\n",
        "\n",
        "Hyperparameter tuning and ensemble methods.\n",
        "Feature engineering to enhance model performance."
      ],
      "metadata": {
        "id": "K3ctNQ5n9-Mt"
      },
      "id": "K3ctNQ5n9-Mt"
    }
  ],
  "metadata": {
    "language_info": {
      "name": "python"
    },
    "colab": {
      "provenance": [],
      "include_colab_link": true
    },
    "kernelspec": {
      "name": "python3",
      "display_name": "Python 3"
    }
  },
  "nbformat": 4,
  "nbformat_minor": 5
}